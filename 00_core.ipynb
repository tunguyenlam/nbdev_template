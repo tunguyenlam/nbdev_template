{
 "cells": [
  {
   "cell_type": "code",
   "execution_count": null,
   "metadata": {},
   "outputs": [],
   "source": [
    "# default_exp core"
   ]
  },
  {
   "cell_type": "markdown",
   "metadata": {},
   "source": [
    "# module name here\n",
    "\n",
    "> API details."
   ]
  },
  {
   "cell_type": "code",
   "execution_count": null,
   "metadata": {},
   "outputs": [],
   "source": [
    "#hide\n",
    "from nbdev.showdoc import *"
   ]
  },
  {
   "cell_type": "code",
   "execution_count": 1,
   "metadata": {},
   "outputs": [],
   "source": [
    "#export\n",
    "def say_hello(to):\n",
    "    \"Say hello to somebody\"\n",
    "    return f'Hello {to}!'"
   ]
  },
  {
   "cell_type": "code",
   "execution_count": 2,
   "metadata": {},
   "outputs": [
    {
     "data": {
      "text/plain": [
       "'Hello Sylvain!'"
      ]
     },
     "execution_count": 2,
     "metadata": {},
     "output_type": "execute_result"
    }
   ],
   "source": [
    "say_hello(\"Sylvain\")"
   ]
  },
  {
   "cell_type": "code",
   "execution_count": 3,
   "metadata": {},
   "outputs": [],
   "source": [
    "from IPython.display import display,SVG"
   ]
  },
  {
   "cell_type": "code",
   "execution_count": 4,
   "metadata": {},
   "outputs": [
    {
     "data": {
      "image/svg+xml": [
       "<svg height=\"100\"><circle cx=\"50\" cy=\"50\" r=\"40\"/></svg>"
      ],
      "text/plain": [
       "<IPython.core.display.SVG object>"
      ]
     },
     "metadata": {},
     "output_type": "display_data"
    }
   ],
   "source": [
    "display(SVG('<svg height=\"100\"><circle cx=\"50\" cy=\"50\" r=\"40\"/></svg>'))\n"
   ]
  },
  {
   "cell_type": "code",
   "execution_count": 5,
   "metadata": {},
   "outputs": [],
   "source": [
    "assert say_hello(\"Jeremy\")==\"Hello Jeremy!\""
   ]
  },
  {
   "cell_type": "code",
   "execution_count": 6,
   "metadata": {},
   "outputs": [
    {
     "name": "stdout",
     "output_type": "stream",
     "text": [
      "Traceback (most recent call last):\r\n",
      "  File \"/home/tu/anaconda3/envs/ml/bin/nbdev_build_lib\", line 8, in <module>\r\n",
      "    sys.exit(nbdev_build_lib())\r\n",
      "  File \"/home/tu/anaconda3/envs/ml/lib/python3.8/site-packages/fastcore/script.py\", line 105, in _f\r\n",
      "    tfunc(**merge(args, args_from_prog(func, xtra)))\r\n",
      "  File \"/home/tu/anaconda3/envs/ml/lib/python3.8/site-packages/nbdev/export2html.py\", line 461, in nbdev_build_lib\r\n",
      "    write_tmpls()\r\n",
      "  File \"/home/tu/anaconda3/envs/ml/lib/python3.8/site-packages/nbdev/export2html.py\", line 452, in write_tmpls\r\n",
      "    write_tmpl(config_tmpl, 'user lib_name title copyright description recursive', cfg, path/'_config.yml')\r\n",
      "  File \"/home/tu/anaconda3/envs/ml/lib/python3.8/site-packages/nbdev/export2html.py\", line 443, in write_tmpl\r\n",
      "    vs = {o:cfg.d[o] for o in nms.split()}\r\n",
      "  File \"/home/tu/anaconda3/envs/ml/lib/python3.8/site-packages/nbdev/export2html.py\", line 443, in <dictcomp>\r\n",
      "    vs = {o:cfg.d[o] for o in nms.split()}\r\n",
      "  File \"/home/tu/anaconda3/envs/ml/lib/python3.8/configparser.py\", line 1254, in __getitem__\r\n",
      "    raise KeyError(key)\r\n",
      "KeyError: 'copyright'\r\n"
     ]
    }
   ],
   "source": [
    "!nbdev_build_lib"
   ]
  },
  {
   "cell_type": "code",
   "execution_count": null,
   "metadata": {},
   "outputs": [],
   "source": []
  }
 ],
 "metadata": {
  "kernelspec": {
   "display_name": "Python 3",
   "language": "python",
   "name": "python3"
  },
  "language_info": {
   "codemirror_mode": {
    "name": "ipython",
    "version": 3
   },
   "file_extension": ".py",
   "mimetype": "text/x-python",
   "name": "python",
   "nbconvert_exporter": "python",
   "pygments_lexer": "ipython3",
   "version": "3.8.8"
  },
  "toc": {
   "base_numbering": 1,
   "nav_menu": {},
   "number_sections": true,
   "sideBar": true,
   "skip_h1_title": false,
   "title_cell": "Table of Contents",
   "title_sidebar": "Contents",
   "toc_cell": false,
   "toc_position": {},
   "toc_section_display": true,
   "toc_window_display": false
  }
 },
 "nbformat": 4,
 "nbformat_minor": 2
}
